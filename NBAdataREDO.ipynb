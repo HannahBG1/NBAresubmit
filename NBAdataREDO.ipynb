{
 "cells": [
  {
   "cell_type": "markdown",
   "metadata": {},
   "source": [
    "# Nba Regular Season 2018-19 Data Challenge\n",
    "\n",
    "Your task will be to take the dataset given, and create an analysis answering the following 10 questions. This project will again test your knowledge of pandas in order to find the answers needed given the data you are presented with."
   ]
  },
  {
   "cell_type": "markdown",
   "metadata": {},
   "source": [
    "# What was the average age of player in the league?"
   ]
  },
  {
   "cell_type": "code",
   "execution_count": 9,
   "metadata": {},
   "outputs": [
    {
     "name": "stdout",
     "output_type": "stream",
     "text": [
      "average age of players in the league: 25.900191938579656\n"
     ]
    }
   ],
   "source": [
    "import pandas as pd\n",
    "\n",
    "df = pd.read_csv('../Downloads/nbastats2018-2019.csv')\n",
    "\n",
    "average_age = df['Age'].mean()\n",
    "\n",
    "print(\"average age of players in the league:\", average_age)"
   ]
  },
  {
   "cell_type": "markdown",
   "metadata": {},
   "source": [
    "# What player scored the most points?"
   ]
  },
  {
   "cell_type": "code",
   "execution_count": 15,
   "metadata": {},
   "outputs": [
    {
     "name": "stdout",
     "output_type": "stream",
     "text": [
      "Player who scored the most points:\n",
      "Name           James Harden\n",
      "Height                   77\n",
      "Weight                  220\n",
      "Team        Houston Rockets\n",
      "Age                      29\n",
      "Salary             30431854\n",
      "Points                 36.1\n",
      "Blocks                  0.7\n",
      "Steals                  2.0\n",
      "Assists                 7.5\n",
      "Rebounds                6.6\n",
      "FT%                   0.879\n",
      "FTA                    11.0\n",
      "FG3%                  0.368\n",
      "FG3A                   13.2\n",
      "FG%                   0.442\n",
      "FGA                    24.5\n",
      "MP                     36.8\n",
      "G                        78\n",
      "PER                    30.6\n",
      "OWS                    11.4\n",
      "DWS                     3.8\n",
      "WS                     15.2\n",
      "WS48                  0.254\n",
      "USG                    40.5\n",
      "BPM                    11.7\n",
      "VORP                    9.9\n",
      "Name: 202, dtype: object\n"
     ]
    }
   ],
   "source": [
    "df = pd.read_csv('../Downloads/nbastats2018-2019.csv')\n",
    "\n",
    "player_most_points = df.loc[df['Points'].idxmax()]\n",
    "\n",
    "print(\"Player who scored the most points:\")\n",
    "print(player_most_points)\n"
   ]
  },
  {
   "cell_type": "markdown",
   "metadata": {},
   "source": [
    "# What player had the most blocks during the season? Was it a post player (F/C)?"
   ]
  },
  {
   "cell_type": "code",
   "execution_count": 20,
   "metadata": {},
   "outputs": [
    {
     "name": "stdout",
     "output_type": "stream",
     "text": [
      "Player who had the most blocks:\n",
      "Name          Myles Turner\n",
      "Height                  83\n",
      "Weight                 250\n",
      "Team        Indiana Pacers\n",
      "Age                     22\n",
      "Salary             3410284\n",
      "Points                13.3\n",
      "Blocks                 2.7\n",
      "Steals                 0.8\n",
      "Assists                1.6\n",
      "Rebounds               7.2\n",
      "FT%                  0.736\n",
      "FTA                    2.7\n",
      "FG3%                 0.388\n",
      "FG3A                   2.6\n",
      "FG%                  0.487\n",
      "FGA                   10.5\n",
      "MP                    28.6\n",
      "G                       74\n",
      "PER                   18.0\n",
      "OWS                    1.9\n",
      "DWS                    4.4\n",
      "WS                     6.3\n",
      "WS48                 0.144\n",
      "USG                   20.0\n",
      "BPM                    3.3\n",
      "VORP                   2.8\n",
      "Name: 476, dtype: object\n",
      "Is the player a potential post player (F/C)? False\n"
     ]
    }
   ],
   "source": [
    "df = pd.read_csv('../Downloads/nbastats2018-2019.csv')\n",
    "\n",
    "height_threshold = 200 \n",
    "\n",
    "player_most_blocks = df.loc[df['Blocks'].idxmax()]\n",
    "\n",
    "is_post_player = player_most_blocks['Height'] > height_threshold\n",
    "\n",
    "print(\"Player who had the most blocks:\")\n",
    "print(player_most_blocks)\n",
    "print(\"Is the player a potential post player (F/C)?\", is_post_player)\n"
   ]
  },
  {
   "cell_type": "markdown",
   "metadata": {},
   "source": [
    "# Based on the regular season, who had the best chance to win a title given their win percentage?"
   ]
  },
  {
   "cell_type": "code",
   "execution_count": 21,
   "metadata": {},
   "outputs": [
    {
     "name": "stdout",
     "output_type": "stream",
     "text": [
      "Team with the best chance to win the title based on win percentage:\n",
      "Milwaukee Bucks\n"
     ]
    }
   ],
   "source": [
    "df = pd.read_csv('../Downloads/nbastats2018-2019.csv')\n",
    "\n",
    "df['Win_Percentage'] = df['WS'] / df['G']\n",
    "\n",
    "\n",
    "team_with_best_chance = df.loc[df['Win_Percentage'].idxmax()]\n",
    "\n",
    "print(\"Team with the best chance to win the title based on win percentage:\")\n",
    "print(team_with_best_chance['Team'])"
   ]
  },
  {
   "cell_type": "markdown",
   "metadata": {},
   "source": [
    "# What player had the best 3-pt percentage? "
   ]
  },
  {
   "cell_type": "code",
   "execution_count": 22,
   "metadata": {},
   "outputs": [
    {
     "name": "stdout",
     "output_type": "stream",
     "text": [
      "Player who had the best 3-point percentage:\n",
      "Trevon Duval\n"
     ]
    }
   ],
   "source": [
    "df = pd.read_csv('../Downloads/nbastats2018-2019.csv')\n",
    "\n",
    "player_best_3pt_percentage = df.loc[df['FG3%'].idxmax()]\n",
    "\n",
    "print(\"Player who had the best 3-point percentage:\")\n",
    "print(player_best_3pt_percentage['Name'])"
   ]
  },
  {
   "cell_type": "markdown",
   "metadata": {},
   "source": [
    "# Who played the most minutes during the season"
   ]
  },
  {
   "cell_type": "code",
   "execution_count": 23,
   "metadata": {},
   "outputs": [
    {
     "name": "stdout",
     "output_type": "stream",
     "text": [
      "Player who played the most minutes during the season:\n",
      "Bradley Beal\n"
     ]
    }
   ],
   "source": [
    "df = pd.read_csv('../Downloads/nbastats2018-2019.csv')\n",
    "\n",
    "player_most_minutes = df.loc[df['MP'].idxmax()]\n",
    "\n",
    "print(\"Player who played the most minutes during the season:\")\n",
    "print(player_most_minutes['Name'])"
   ]
  },
  {
   "cell_type": "markdown",
   "metadata": {},
   "source": [
    "# What player given their player effiecency rating was the clutchest during the season?"
   ]
  },
  {
   "cell_type": "code",
   "execution_count": 24,
   "metadata": {},
   "outputs": [
    {
     "name": "stdout",
     "output_type": "stream",
     "text": [
      "Player with the highest Player Efficiency Rating (PER):\n",
      "Zhou Qi\n"
     ]
    }
   ],
   "source": [
    "df = pd.read_csv('../Downloads/nbastats2018-2019.csv')\n",
    "\n",
    "clutchest_player = df.loc[df['PER'].idxmax()]\n",
    "\n",
    "print(\"Player with the highest Player Efficiency Rating (PER):\")\n",
    "print(clutchest_player['Name'])"
   ]
  },
  {
   "cell_type": "markdown",
   "metadata": {},
   "source": [
    "# What team had the youngest roster?"
   ]
  },
  {
   "cell_type": "code",
   "execution_count": 25,
   "metadata": {},
   "outputs": [
    {
     "name": "stdout",
     "output_type": "stream",
     "text": [
      "Team with the youngest roster:\n",
      "Chicago Bulls\n"
     ]
    }
   ],
   "source": [
    "df = pd.read_csv('../Downloads/nbastats2018-2019.csv')\n",
    "\n",
    "team_avg_age = df.groupby('Team')['Age'].mean()\n",
    "\n",
    "youngest_team = team_avg_age.idxmin()\n",
    "\n",
    "print(\"Team with the youngest roster:\")\n",
    "print(youngest_team)"
   ]
  },
  {
   "cell_type": "markdown",
   "metadata": {},
   "source": [
    "# Who is the highest paid player during the seasion?"
   ]
  },
  {
   "cell_type": "code",
   "execution_count": 27,
   "metadata": {},
   "outputs": [
    {
     "name": "stdout",
     "output_type": "stream",
     "text": [
      "Highest-paid player during the season:\n",
      "Stephen Curry\n"
     ]
    }
   ],
   "source": [
    "df = pd.read_csv('../Downloads/nbastats2018-2019.csv')\n",
    "\n",
    "df = df.dropna(subset=['Salary'])\n",
    "\n",
    "df['Salary'] = pd.to_numeric(df['Salary'], errors='coerce')\n",
    "\n",
    "highest_paid_player = df.loc[df['Salary'].idxmax()]\n",
    "\n",
    "print(\"Highest-paid player during the season:\")\n",
    "print(highest_paid_player['Name'])"
   ]
  },
  {
   "cell_type": "markdown",
   "metadata": {},
   "source": [
    "# At the end of a game, who WOULDN'T you want on the Free Throw Line?"
   ]
  },
  {
   "cell_type": "code",
   "execution_count": 28,
   "metadata": {},
   "outputs": [
    {
     "name": "stdout",
     "output_type": "stream",
     "text": [
      "Player you wouldn't want on the free-throw line:\n",
      "Terrence Jones\n"
     ]
    }
   ],
   "source": [
    "df = pd.read_csv('../Downloads/nbastats2018-2019.csv')\n",
    "df = df.dropna(subset=['FT%'])\n",
    "\n",
    "sorted_df = df.sort_values(by='FT%', ascending=True)\n",
    "\n",
    "\n",
    "print(\"Player you wouldn't want on the free-throw line:\")\n",
    "print(sorted_df.iloc[0]['Name'])"
   ]
  }
 ],
 "metadata": {
  "kernelspec": {
   "display_name": "Python 3 (ipykernel)",
   "language": "python",
   "name": "python3"
  },
  "language_info": {
   "codemirror_mode": {
    "name": "ipython",
    "version": 3
   },
   "file_extension": ".py",
   "mimetype": "text/x-python",
   "name": "python",
   "nbconvert_exporter": "python",
   "pygments_lexer": "ipython3",
   "version": "3.11.5"
  }
 },
 "nbformat": 4,
 "nbformat_minor": 2
}
